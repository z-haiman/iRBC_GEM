{
 "cells": [
  {
   "cell_type": "markdown",
   "id": "3e2734db",
   "metadata": {},
   "source": [
    "# Prune human reconstructions\n",
    "To speed up loading and working with the human reconstructions for creating RBC models, they are pruned here."
   ]
  },
  {
   "cell_type": "code",
   "execution_count": 1,
   "id": "c29e9c7b",
   "metadata": {},
   "outputs": [
    {
     "data": {
      "text/plain": [
       "'0.0.1'"
      ]
     },
     "execution_count": 1,
     "metadata": {},
     "output_type": "execute_result"
    }
   ],
   "source": [
    "import irbc_gem\n",
    "from irbc_gem import MAIN_PROJECT_DIR\n",
    "from textwrap import dedent\n",
    "from cobra.io.sbml import read_sbml_model, write_sbml_model\n",
    "\n",
    "irbc_gem.__version__"
   ]
  },
  {
   "cell_type": "code",
   "execution_count": 2,
   "id": "37625b68",
   "metadata": {},
   "outputs": [],
   "source": [
    "def prune_reconstruction_for_rbc(model):\n",
    "    pruned = model.copy()\n",
    "    \n",
    "    # For an RBC model, only the cytosolic and extracellular compartments need to be considered. \n",
    "    for reaction in model.reactions:\n",
    "        if any([comp not in [\"c\", \"e\"] for comp in reaction.compartments]):\n",
    "            pruned.remove_reactions([reaction.id], remove_orphans=True)\n",
    "\n",
    "    print(\n",
    "        dedent(\n",
    "            f\"\"\"\n",
    "            Pruned {model.id}\n",
    "            Number of reactions: {len(pruned.reactions)}\n",
    "            Number of metabolites: {len(pruned.metabolites)}\n",
    "            Number of genes: {len(pruned.genes)}\n",
    "            \"\"\"\n",
    "        )\n",
    "    )\n",
    "    pruned.id += \"_pruned\"\n",
    "    return pruned"
   ]
  },
  {
   "cell_type": "markdown",
   "id": "7ffce7d4",
   "metadata": {},
   "source": [
    "## Recon3D (BiGG)"
   ]
  },
  {
   "cell_type": "code",
   "execution_count": 3,
   "id": "f1f41d17",
   "metadata": {},
   "outputs": [
    {
     "name": "stdout",
     "output_type": "stream",
     "text": [
      "Set parameter Username\n",
      "Academic license - for non-commercial use only - expires 2023-11-26\n"
     ]
    }
   ],
   "source": [
    "# Load original model\n",
    "Recon3D = read_sbml_model(f\"{MAIN_PROJECT_DIR}/models/cobra/Recon3D.xml\")"
   ]
  },
  {
   "cell_type": "code",
   "execution_count": 4,
   "id": "d248ed19",
   "metadata": {
    "scrolled": false
   },
   "outputs": [
    {
     "name": "stdout",
     "output_type": "stream",
     "text": [
      "Read LP format model from file /var/folders/5t/hk8m3g6d1jn25x5rssjgsrmm0000gn/T/tmp45_daccr.lp\n",
      "Reading time = 0.07 seconds\n",
      ": 5835 rows, 21200 columns, 80850 nonzeros\n",
      "\n",
      "Pruned Recon3D\n",
      "Number of reactions: 7099\n",
      "Number of metabolites: 3701\n",
      "Number of genes: 1633\n",
      "\n"
     ]
    },
    {
     "data": {
      "text/html": [
       "\n",
       "        <table>\n",
       "            <tr>\n",
       "                <td><strong>Name</strong></td>\n",
       "                <td>Recon3D_pruned</td>\n",
       "            </tr><tr>\n",
       "                <td><strong>Memory address</strong></td>\n",
       "                <td>7fdeaabf4df0</td>\n",
       "            </tr><tr>\n",
       "                <td><strong>Number of metabolites</strong></td>\n",
       "                <td>3701</td>\n",
       "            </tr><tr>\n",
       "                <td><strong>Number of reactions</strong></td>\n",
       "                <td>7099</td>\n",
       "            </tr><tr>\n",
       "                <td><strong>Number of genes</strong></td>\n",
       "                <td>1633</td>\n",
       "            </tr><tr>\n",
       "                <td><strong>Number of groups</strong></td>\n",
       "                <td>0</td>\n",
       "            </tr><tr>\n",
       "                <td><strong>Objective expression</strong></td>\n",
       "                <td>1.0*BIOMASS_maintenance - 1.0*BIOMASS_maintenance_reverse_5b3f9</td>\n",
       "            </tr><tr>\n",
       "                <td><strong>Compartments</strong></td>\n",
       "                <td>cytosol, extracellular space</td>\n",
       "            </tr>\n",
       "          </table>"
      ],
      "text/plain": [
       "<Model Recon3D_pruned at 0x7fdeaabf4df0>"
      ]
     },
     "execution_count": 4,
     "metadata": {},
     "output_type": "execute_result"
    }
   ],
   "source": [
    "model = prune_reconstruction_for_rbc(Recon3D)\n",
    "write_sbml_model(model, f\"{MAIN_PROJECT_DIR}/models/cobra/{model.id}.xml\")\n",
    "model"
   ]
  },
  {
   "cell_type": "markdown",
   "id": "664dc3fc",
   "metadata": {},
   "source": [
    "## Human GEM (v1.15.0)"
   ]
  },
  {
   "cell_type": "code",
   "execution_count": 5,
   "id": "a04530c4",
   "metadata": {},
   "outputs": [],
   "source": [
    "# Load original model\n",
    "HumanGEM = read_sbml_model(f\"{MAIN_PROJECT_DIR}/models/cobra/HumanGEM.xml\")"
   ]
  },
  {
   "cell_type": "code",
   "execution_count": 6,
   "id": "9b854315",
   "metadata": {},
   "outputs": [
    {
     "name": "stdout",
     "output_type": "stream",
     "text": [
      "Read LP format model from file /var/folders/5t/hk8m3g6d1jn25x5rssjgsrmm0000gn/T/tmplf34v47p.lp\n",
      "Reading time = 0.09 seconds\n",
      ": 8363 rows, 26048 columns, 111442 nonzeros\n"
     ]
    },
    {
     "name": "stderr",
     "output_type": "stream",
     "text": [
      "/Users/zhaiman/opt/miniconda3/envs/memote-rbc/lib/python3.8/site-packages/cobra/core/group.py:147: UserWarning: need to pass in a list\n",
      "  warn(\"need to pass in a list\")\n"
     ]
    },
    {
     "name": "stdout",
     "output_type": "stream",
     "text": [
      "\n",
      "Pruned HumanGEM\n",
      "Number of reactions: 8193\n",
      "Number of metabolites: 4982\n",
      "Number of genes: 2382\n",
      "\n"
     ]
    },
    {
     "data": {
      "text/html": [
       "\n",
       "        <table>\n",
       "            <tr>\n",
       "                <td><strong>Name</strong></td>\n",
       "                <td>HumanGEM_pruned</td>\n",
       "            </tr><tr>\n",
       "                <td><strong>Memory address</strong></td>\n",
       "                <td>7fde6322a910</td>\n",
       "            </tr><tr>\n",
       "                <td><strong>Number of metabolites</strong></td>\n",
       "                <td>4982</td>\n",
       "            </tr><tr>\n",
       "                <td><strong>Number of reactions</strong></td>\n",
       "                <td>8193</td>\n",
       "            </tr><tr>\n",
       "                <td><strong>Number of genes</strong></td>\n",
       "                <td>2382</td>\n",
       "            </tr><tr>\n",
       "                <td><strong>Number of groups</strong></td>\n",
       "                <td>142</td>\n",
       "            </tr><tr>\n",
       "                <td><strong>Objective expression</strong></td>\n",
       "                <td>0</td>\n",
       "            </tr><tr>\n",
       "                <td><strong>Compartments</strong></td>\n",
       "                <td>Cytosol, Extracellular</td>\n",
       "            </tr>\n",
       "          </table>"
      ],
      "text/plain": [
       "<Model HumanGEM_pruned at 0x7fde6322a910>"
      ]
     },
     "execution_count": 6,
     "metadata": {},
     "output_type": "execute_result"
    }
   ],
   "source": [
    "model = prune_reconstruction_for_rbc(HumanGEM)\n",
    "write_sbml_model(model, f\"{MAIN_PROJECT_DIR}/models/cobra/{model.id}.xml\")\n",
    "model"
   ]
  },
  {
   "cell_type": "code",
   "execution_count": null,
   "id": "78e974f0",
   "metadata": {},
   "outputs": [],
   "source": []
  }
 ],
 "metadata": {
  "kernelspec": {
   "display_name": "Python 3 (ipykernel)",
   "language": "python",
   "name": "python3"
  },
  "language_info": {
   "codemirror_mode": {
    "name": "ipython",
    "version": 3
   },
   "file_extension": ".py",
   "mimetype": "text/x-python",
   "name": "python",
   "nbconvert_exporter": "python",
   "pygments_lexer": "ipython3",
   "version": "3.8.16"
  }
 },
 "nbformat": 4,
 "nbformat_minor": 5
}
