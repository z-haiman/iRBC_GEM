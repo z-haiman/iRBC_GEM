{
 "cells": [
  {
   "cell_type": "markdown",
   "id": "20dd5b8a",
   "metadata": {},
   "source": [
    "# Update RBC model\n",
    "\n",
    "The purpose of this notebook is to update the iAB-RBC-283 reconstruction for the following:\n",
    "1. Base model for RBC reconstruction expansion\n",
    "2. Cleaned up and uplifted model to use for comparison to new reconstruction\n",
    "\n",
    "Bordbar, A., Jamshidi, N. & Palsson, B.O. iAB-RBC-283: A proteomically derived knowledge-base of erythrocyte metabolism that can be used to simulate its physiological and patho-physiological states. BMC Syst Biol 5, 110 (2011). https://doi.org/10.1186/1752-0509-5-110\n",
    "\n",
    "\n",
    "## Setup\n",
    "### Import packages"
   ]
  },
  {
   "cell_type": "code",
   "execution_count": 1,
   "id": "961fadd5",
   "metadata": {},
   "outputs": [
    {
     "data": {
      "text/plain": [
       "'0.0.1'"
      ]
     },
     "execution_count": 1,
     "metadata": {},
     "output_type": "execute_result"
    }
   ],
   "source": [
    "from operator import attrgetter\n",
    "from collections import Counter\n",
    "\n",
    "import cobra\n",
    "from cobra import Configuration\n",
    "from cobra.io.json import load_json_model, save_json_model\n",
    "from cobra.io.sbml import read_sbml_model, write_sbml_model\n",
    "from cobra.io.yaml import save_yaml_model\n",
    "from cobra.io.mat import save_matlab_model\n",
    "\n",
    "import irbc_gem\n",
    "from irbc_gem import MAIN_PROJECT_DIR\n",
    "    \n",
    "irbc_gem.__version__"
   ]
  },
  {
   "cell_type": "markdown",
   "id": "ca302750",
   "metadata": {},
   "source": [
    "### Define configuration\n",
    "#### COBRA Configuration"
   ]
  },
  {
   "cell_type": "code",
   "execution_count": 2,
   "id": "5e35d0f0",
   "metadata": {
    "scrolled": true
   },
   "outputs": [
    {
     "data": {
      "text/html": [
       "\n",
       "<table>\n",
       "  <thead>\n",
       "    <tr>\n",
       "      <td><strong>Attribute</strong></td>\n",
       "      <td><strong>Description</strong></td>\n",
       "      <td><strong>Value</strong></td>\n",
       "    </tr>\n",
       "  </thead>\n",
       "  <tbody>\n",
       "    <tr>\n",
       "      <td><pre>solver</pre></td>\n",
       "      <td>Mathematical optimization solver</td>\n",
       "      <td>gurobi</td>\n",
       "    </tr>\n",
       "    <tr>\n",
       "        <td><pre>tolerance</pre></td>\n",
       "        <td>General solver tolerance (feasibility, integrality, etc.)</td>\n",
       "        <td>1e-07</td>\n",
       "    </tr>\n",
       "    <tr>\n",
       "        <td><pre>lower_bound</pre></td>\n",
       "        <td>Default reaction lower bound</td>\n",
       "        <td>-1000.0</td>\n",
       "    </tr>\n",
       "    <tr>\n",
       "        <td><pre>upper_bound</pre></td>\n",
       "        <td>Default reaction upper bound</td>\n",
       "        <td>1000.0</td>\n",
       "    </tr>\n",
       "    <tr>\n",
       "        <td><pre>processes</pre></td>\n",
       "        <td>Number of parallel processes</td>\n",
       "        <td>15</td>\n",
       "    </tr>\n",
       "    <tr>\n",
       "        <td><pre>cache_directory</pre></td>\n",
       "        <td>Path for the model cache</td>\n",
       "        <td>/Users/zhaiman/Library/Caches/cobrapy</td>\n",
       "    </tr>\n",
       "    <tr>\n",
       "        <td><pre>max_cache_size</pre></td>\n",
       "        <td>Maximum cache size in bytes</td>\n",
       "        <td>104857600</td>\n",
       "    </tr>\n",
       "    <tr>\n",
       "        <td><pre>cache_expiration</pre></td>\n",
       "        <td>Model cache expiration time in seconds (if any)</td>\n",
       "        <td>None</td>\n",
       "    </tr>\n",
       "  </tbody>\n",
       "</table>\n"
      ],
      "text/plain": [
       "\n",
       "solver: gurobi\n",
       "tolerance: 1e-07\n",
       "lower_bound: -1000.0\n",
       "upper_bound: 1000.0\n",
       "processes: 15\n",
       "cache_directory: /Users/zhaiman/Library/Caches/cobrapy\n",
       "max_cache_size: 104857600\n",
       "cache_expiration: None"
      ]
     },
     "execution_count": 2,
     "metadata": {},
     "output_type": "execute_result"
    }
   ],
   "source": [
    "COBRA_CONFIGURATION = Configuration()\n",
    "COBRA_CONFIGURATION.solver = \"gurobi\"\n",
    "COBRA_CONFIGURATION"
   ]
  },
  {
   "cell_type": "markdown",
   "id": "6682252f",
   "metadata": {},
   "source": [
    "## Load iAB-RBC-283"
   ]
  },
  {
   "cell_type": "code",
   "execution_count": 3,
   "id": "6581e2cb",
   "metadata": {},
   "outputs": [
    {
     "name": "stdout",
     "output_type": "stream",
     "text": [
      "Set parameter Username\n",
      "Academic license - for non-commercial use only - expires 2023-11-26\n"
     ]
    }
   ],
   "source": [
    "# JSON contains subsystems, SBML contains annotations\n",
    "iAB_RBC_283_json = load_json_model(f\"{MAIN_PROJECT_DIR}/models/Archived/iAB_RBC_283/iAB_RBC_283_bigg_10_31_2019.json\")\n",
    "iAB_RBC_283_sbml = read_sbml_model(f\"{MAIN_PROJECT_DIR}/models/Archived/iAB_RBC_283/iAB_RBC_283_bigg_10_31_2019.xml\")"
   ]
  },
  {
   "cell_type": "code",
   "execution_count": 4,
   "id": "b07fa0e3",
   "metadata": {},
   "outputs": [
    {
     "name": "stderr",
     "output_type": "stream",
     "text": [
      "No objective coefficients in model. Unclear what should be optimized\n"
     ]
    }
   ],
   "source": [
    "# Load pruned models\n",
    "Recon3D = read_sbml_model(f\"{MAIN_PROJECT_DIR}/models/cobra/Recon3D_pruned.xml\")\n",
    "HumanGEM = read_sbml_model(f\"{MAIN_PROJECT_DIR}/models/cobra/HumanGEM_pruned.xml\")"
   ]
  },
  {
   "cell_type": "markdown",
   "id": "95b30aae",
   "metadata": {},
   "source": [
    "## Update model with subsystems"
   ]
  },
  {
   "cell_type": "code",
   "execution_count": 5,
   "id": "2d4b53bc",
   "metadata": {
    "scrolled": false
   },
   "outputs": [
    {
     "name": "stdout",
     "output_type": "stream",
     "text": [
      "Read LP format model from file /var/folders/5t/hk8m3g6d1jn25x5rssjgsrmm0000gn/T/tmpxnb59op7.lp\n",
      "Reading time = 0.01 seconds\n",
      ": 342 rows, 938 columns, 3344 nonzeros\n"
     ]
    },
    {
     "data": {
      "text/html": [
       "\n",
       "        <table>\n",
       "            <tr>\n",
       "                <td><strong>Name</strong></td>\n",
       "                <td>iAB_RBC_283</td>\n",
       "            </tr><tr>\n",
       "                <td><strong>Memory address</strong></td>\n",
       "                <td>7fa5a1b8b9d0</td>\n",
       "            </tr><tr>\n",
       "                <td><strong>Number of metabolites</strong></td>\n",
       "                <td>342</td>\n",
       "            </tr><tr>\n",
       "                <td><strong>Number of reactions</strong></td>\n",
       "                <td>469</td>\n",
       "            </tr><tr>\n",
       "                <td><strong>Number of genes</strong></td>\n",
       "                <td>346</td>\n",
       "            </tr><tr>\n",
       "                <td><strong>Number of groups</strong></td>\n",
       "                <td>0</td>\n",
       "            </tr><tr>\n",
       "                <td><strong>Objective expression</strong></td>\n",
       "                <td>1.0*NaKt - 1.0*NaKt_reverse_db47e</td>\n",
       "            </tr><tr>\n",
       "                <td><strong>Compartments</strong></td>\n",
       "                <td>cytosol, extracellular space</td>\n",
       "            </tr>\n",
       "          </table>"
      ],
      "text/plain": [
       "<Model iAB_RBC_283 at 0x7fa5a1b8b9d0>"
      ]
     },
     "execution_count": 5,
     "metadata": {},
     "output_type": "execute_result"
    }
   ],
   "source": [
    "model = iAB_RBC_283_sbml.copy()\n",
    "model"
   ]
  },
  {
   "cell_type": "code",
   "execution_count": 6,
   "id": "115eb368",
   "metadata": {
    "scrolled": true
   },
   "outputs": [
    {
     "data": {
      "text/plain": [
       "{'&apos;',\n",
       " 'Aminosugar Metabolism',\n",
       " 'Arginine and Proline Metabolism',\n",
       " 'Ascorbate and Aldarate Metabolism',\n",
       " 'Carnitine shuttle',\n",
       " 'Citric Acid Cycle',\n",
       " 'Diacylglycerol Synthesis',\n",
       " 'Eicosanoid Metabolism',\n",
       " 'Extracellular exchange',\n",
       " 'Fatty acid activation',\n",
       " 'Fructose and Mannose Metabolism',\n",
       " 'Galactose metabolism',\n",
       " 'Glutamate metabolism',\n",
       " 'Glutathione Metabolism',\n",
       " 'Glycerophospholipid Metabolism',\n",
       " 'Glycolysis/Gluconeogenesis',\n",
       " 'Heme Biosynthesis',\n",
       " 'Heme Degradation',\n",
       " 'Inositol Phosphate Metabolism',\n",
       " 'Intracellular source/sink',\n",
       " 'Methionine Metabolism',\n",
       " 'Methionine Salvage',\n",
       " 'Miscellaneous',\n",
       " 'NAD Metabolism',\n",
       " 'Nucleotides',\n",
       " 'Oxidative Phosphorylation',\n",
       " 'Pentose Phosphate Pathway',\n",
       " 'Pentose and Glucuronate Interconversions',\n",
       " 'Phenylalanine metabolism',\n",
       " 'Purine Catabolism',\n",
       " 'Pyrimidine Biosynthesis',\n",
       " 'Pyrimidine Catabolism',\n",
       " 'Pyruvate Metabolism',\n",
       " 'ROS Detoxification',\n",
       " 'Riboflavin Metabolism',\n",
       " 'Salvage Pathway',\n",
       " 'Starch and Sucrose Metabolism',\n",
       " 'Thiamine Metabolism',\n",
       " 'Transport, Extracellular',\n",
       " 'Tyrosine metabolism',\n",
       " 'Urea cycle/amino group metabolism',\n",
       " 'Vitamin B6 Metabolism'}"
      ]
     },
     "execution_count": 6,
     "metadata": {},
     "output_type": "execute_result"
    }
   ],
   "source": [
    "subsystems_set = set()\n",
    "for reaction in model.reactions:\n",
    "    reaction.subsystem = iAB_RBC_283_json.reactions.get_by_id(reaction.id).subsystem\n",
    "    subsystems_set.add(reaction.subsystem)\n",
    "subsystems_set"
   ]
  },
  {
   "cell_type": "code",
   "execution_count": 7,
   "id": "082ca306",
   "metadata": {
    "scrolled": true
   },
   "outputs": [
    {
     "data": {
      "text/plain": [
       "['Acyl-CoA hydrolysis',\n",
       " 'Acylglycerides metabolism',\n",
       " 'Alanine, aspartate and glutamate metabolism',\n",
       " 'Alkaloids biosynthesis',\n",
       " 'Amino sugar and nucleotide sugar metabolism',\n",
       " 'Aminoacyl-tRNA biosynthesis',\n",
       " 'Androgen metabolism',\n",
       " 'Arachidonic acid metabolism',\n",
       " 'Arginine and proline metabolism',\n",
       " 'Artificial reactions',\n",
       " 'Ascorbate and aldarate metabolism',\n",
       " 'Beta oxidation of branched-chain fatty acids (mitochondrial)',\n",
       " 'Beta oxidation of di-unsaturated fatty acids (n-6) (mitochondrial)',\n",
       " 'Beta oxidation of di-unsaturated fatty acids (n-6) (peroxisomal)',\n",
       " 'Beta oxidation of even-chain fatty acids (mitochondrial)',\n",
       " 'Beta oxidation of even-chain fatty acids (peroxisomal)',\n",
       " 'Beta oxidation of odd-chain fatty acids (mitochondrial)',\n",
       " 'Beta oxidation of odd-chain fatty acids (peroxisomal)',\n",
       " 'Beta oxidation of phytanic acid (peroxisomal)',\n",
       " 'Beta oxidation of poly-unsaturated fatty acids (mitochondrial)',\n",
       " 'Beta oxidation of unsaturated fatty acids (n-7) (mitochondrial)',\n",
       " 'Beta oxidation of unsaturated fatty acids (n-7) (peroxisomal)',\n",
       " 'Beta oxidation of unsaturated fatty acids (n-9) (mitochondrial)',\n",
       " 'Beta oxidation of unsaturated fatty acids (n-9) (peroxisomal)',\n",
       " 'Beta-alanine metabolism',\n",
       " 'Bile acid biosynthesis',\n",
       " 'Bile acid recycling',\n",
       " 'Biopterin metabolism',\n",
       " 'Biotin metabolism',\n",
       " 'Blood group biosynthesis',\n",
       " 'Butanoate metabolism',\n",
       " 'C5-branched dibasic acid metabolism',\n",
       " 'Carnitine shuttle (cytosolic)',\n",
       " 'Carnitine shuttle (endoplasmic reticular)',\n",
       " 'Carnitine shuttle (mitochondrial)',\n",
       " 'Carnitine shuttle (peroxisomal)',\n",
       " 'Cholesterol biosynthesis 1 (Bloch pathway)',\n",
       " 'Cholesterol biosynthesis 2',\n",
       " 'Cholesterol biosynthesis 3 (Kandustch-Russell pathway)',\n",
       " 'Cholesterol metabolism',\n",
       " 'Chondroitin / heparan sulfate biosynthesis',\n",
       " 'Chondroitin sulfate degradation',\n",
       " 'CoA catabolism',\n",
       " 'CoA synthesis',\n",
       " 'Cysteine and methionine metabolism',\n",
       " 'Dietary fiber binding',\n",
       " 'Drug metabolism',\n",
       " 'Eicosanoid metabolism',\n",
       " 'Estrogen metabolism',\n",
       " 'Ether lipid metabolism',\n",
       " 'Exchange/demand reactions',\n",
       " 'Fatty acid activation (cytosolic)',\n",
       " 'Fatty acid activation (endoplasmic reticular)',\n",
       " 'Fatty acid biosynthesis',\n",
       " 'Fatty acid biosynthesis (even-chain)',\n",
       " 'Fatty acid biosynthesis (odd-chain)',\n",
       " 'Fatty acid biosynthesis (unsaturated)',\n",
       " 'Fatty acid desaturation (even-chain)',\n",
       " 'Fatty acid desaturation (odd-chain)',\n",
       " 'Fatty acid elongation (even-chain)',\n",
       " 'Fatty acid elongation (odd-chain)',\n",
       " 'Fatty acid oxidation',\n",
       " 'Folate metabolism',\n",
       " 'Formation and hydrolysis of cholesterol esters',\n",
       " 'Fructose and mannose metabolism',\n",
       " 'Galactose metabolism',\n",
       " 'Glucocorticoid biosynthesis',\n",
       " 'Glutathione metabolism',\n",
       " 'Glycerolipid metabolism',\n",
       " 'Glycerophospholipid metabolism',\n",
       " 'Glycine, serine and threonine metabolism',\n",
       " 'Glycolysis / Gluconeogenesis',\n",
       " 'Glycosphingolipid biosynthesis-ganglio series',\n",
       " 'Glycosphingolipid biosynthesis-globo series',\n",
       " 'Glycosphingolipid biosynthesis-lacto and neolacto series',\n",
       " 'Glycosphingolipid metabolism',\n",
       " 'Glycosylphosphatidylinositol (GPI)-anchor biosynthesis',\n",
       " 'Heme degradation',\n",
       " 'Heme synthesis',\n",
       " 'Heparan sulfate degradation',\n",
       " 'Hippurate metabolism',\n",
       " 'Histidine metabolism',\n",
       " 'Inositol phosphate metabolism',\n",
       " 'Isolated',\n",
       " 'Keratan sulfate biosynthesis',\n",
       " 'Keratan sulfate degradation',\n",
       " 'Leukotriene metabolism',\n",
       " 'Linoleate metabolism',\n",
       " 'Lipoic acid metabolism',\n",
       " 'Lysine metabolism',\n",
       " 'Metabolism of other amino acids',\n",
       " 'Miscellaneous',\n",
       " 'N-glycan metabolism',\n",
       " 'Nicotinate and nicotinamide metabolism',\n",
       " 'Nucleotide metabolism',\n",
       " 'O-glycan metabolism',\n",
       " 'Omega-3 fatty acid metabolism',\n",
       " 'Omega-6 fatty acid metabolism',\n",
       " 'Oxidative phosphorylation',\n",
       " 'Pantothenate and CoA biosynthesis',\n",
       " 'Pentose and glucuronate interconversions',\n",
       " 'Pentose phosphate pathway',\n",
       " 'Peptide metabolism',\n",
       " 'Phenylalanine metabolism',\n",
       " 'Phenylalanine, tyrosine and tryptophan biosynthesis',\n",
       " 'Phosphatidylinositol phosphate metabolism',\n",
       " 'Pool reactions',\n",
       " 'Porphyrin metabolism',\n",
       " 'Propanoate metabolism',\n",
       " 'Prostaglandin biosynthesis',\n",
       " 'Protein assembly',\n",
       " 'Protein degradation',\n",
       " 'Protein modification',\n",
       " 'Purine metabolism',\n",
       " 'Pyrimidine metabolism',\n",
       " 'Pyruvate metabolism',\n",
       " 'ROS detoxification',\n",
       " 'Retinol metabolism',\n",
       " 'Riboflavin metabolism',\n",
       " 'Serotonin and melatonin biosynthesis',\n",
       " 'Sphingolipid metabolism',\n",
       " 'Starch and sucrose metabolism',\n",
       " 'Steroid metabolism',\n",
       " 'Sulfur metabolism',\n",
       " 'Terpenoid backbone biosynthesis',\n",
       " 'Thiamine metabolism',\n",
       " 'Transport reactions',\n",
       " 'Triacylglycerol synthesis',\n",
       " 'Tricarboxylic acid cycle and glyoxylate/dicarboxylate metabolism',\n",
       " 'Tryptophan metabolism',\n",
       " 'Tyrosine metabolism',\n",
       " 'Ubiquinone synthesis',\n",
       " 'Urea cycle',\n",
       " 'Valine, leucine, and isoleucine metabolism',\n",
       " 'Vitamin A metabolism',\n",
       " 'Vitamin B12 metabolism',\n",
       " 'Vitamin B2 metabolism',\n",
       " 'Vitamin B6 metabolism',\n",
       " 'Vitamin C metabolism',\n",
       " 'Vitamin D metabolism',\n",
       " 'Vitamin E metabolism',\n",
       " 'Xenobiotics metabolism']"
      ]
     },
     "execution_count": 7,
     "metadata": {},
     "output_type": "execute_result"
    }
   ],
   "source": [
    "HumanGEM.groups.list_attr(\"name\")"
   ]
  },
  {
   "cell_type": "markdown",
   "id": "a5d5b933",
   "metadata": {},
   "source": [
    "## Update subsystems\n",
    "Map them to new names seen in Human-GEM v1.15.0."
   ]
  },
  {
   "cell_type": "code",
   "execution_count": 8,
   "id": "50157d98",
   "metadata": {},
   "outputs": [],
   "source": [
    "mapping = {\n",
    "    '&apos;': 'Miscellaneous',\n",
    "    'Aminosugar Metabolism': 'Amino sugar and nucleotide sugar metabolism',\n",
    "    'Arginine and Proline Metabolism': 'Arginine and proline metabolism',\n",
    "    'Ascorbate and Aldarate Metabolism': 'Ascorbate and aldarate metabolism',\n",
    "    'Carnitine shuttle': 'Carnitine shuttle (cytosolic)',\n",
    "    'Citric Acid Cycle': 'Tricarboxylic acid cycle and glyoxylate/dicarboxylate metabolism',\n",
    "#     'Diacylglycerol Synthesis': Requires manual mapping,\n",
    "    'Eicosanoid Metabolism': 'Eicosanoid metabolism', \n",
    "    'Extracellular exchange': 'Exchange/demand reactions',\n",
    "    'Fatty acid activation': 'Fatty acid activation (cytosolic)',\n",
    "    'Fructose and Mannose Metabolism': 'Fructose and mannose metabolism',\n",
    "    'Glutamate metabolism': 'Alanine, aspartate and glutamate metabolism',\n",
    "    'Glutathione Metabolism': 'Glutathione metabolism',\n",
    "    'Glycerophospholipid Metabolism': 'Glycerophospholipid metabolism',\n",
    "    'Glycolysis/Gluconeogenesis': 'Glycolysis / Gluconeogenesis',\n",
    "    'Heme Biosynthesis': 'Heme synthesis',\n",
    "    'Heme Degradation': 'Heme degradation',\n",
    "    'Inositol Phosphate Metabolism': 'Inositol phosphate metabolism',\n",
    "    'Intracellular source/sink': 'Exchange/demand reactions',\n",
    "    'Methionine Metabolism': 'Cysteine and methionine metabolism',\n",
    "    'Methionine Salvage': 'Cysteine and methionine metabolism',\n",
    "    'NAD Metabolism': 'Nicotinate and nicotinamide metabolism',\n",
    "    'Nucleotides': 'Nucleotide metabolism',\n",
    "    'Oxidative phosphorylation': 'Oxidative phosphorylation',\n",
    "    'Pentose Phosphate Pathway': 'Pentose phosphate pathway',\n",
    "    'Pentose and Glucuronate Interconversions': 'Pentose and glucuronate interconversions',\n",
    "#     'Phenylalanine metabolism': ,\n",
    "    'Purine Catabolism': 'Purine metabolism',\n",
    "    'Pyrimidine Biosynthesis': 'Pyrimidine metabolism',\n",
    "    'Pyrimidine Catabolism': 'Pyrimidine metabolism',\n",
    "    'Pyruvate Metabolism': 'Pyruvate metabolism',\n",
    "    'ROS Detoxification': 'ROS detoxification',\n",
    "    'Riboflavin Metabolism': 'Riboflavin metabolism',\n",
    "    'Salvage Pathway': 'Purine metabolism',\n",
    "#     'Starch and Sucrose Metabolism': ,\n",
    "    'Thiamine Metabolism': 'Thiamine metabolism',\n",
    "#     'Transport, Extracellular': ,\n",
    "#     'Tyrosine metabolism': ,\n",
    "    'Urea cycle/amino group metabolism': 'Urea cycle',\n",
    "    'Vitamin B6 Metabolism': 'Vitamin B6 metabolism',\n",
    "}\n",
    "for reaction in model.reactions:\n",
    "    reaction.subsystem = mapping.get(reaction.subsystem, reaction.subsystem)"
   ]
  },
  {
   "cell_type": "markdown",
   "id": "54f9a9d0",
   "metadata": {},
   "source": [
    "### Genes\n",
    "1. Update gene IDs to match RECON3D with inclusion of NCBI Gene ID .\n",
    "2. Manually update genes without NCBI numbers and genes lumped together.\n",
    "3. Update gene names to match annotation \"refseq_name\".\n",
    "\n",
    "#### Generate ID map"
   ]
  },
  {
   "cell_type": "code",
   "execution_count": 9,
   "id": "c5eee836",
   "metadata": {
    "scrolled": false
   },
   "outputs": [],
   "source": [
    "to_check = {}\n",
    "gene_mapping = {}\n",
    "\n",
    "for gene in model.genes:\n",
    "    ncbi = gene.annotation.get(\"ncbigene\")\n",
    "    \n",
    "    if ncbi is None:\n",
    "        to_check[gene] = ncbi\n",
    "        continue\n",
    "    if isinstance(ncbi, list):\n",
    "        if len(ncbi) > 1:\n",
    "            raise ValueError\n",
    "            \n",
    "        ncbi = ncbi[0]\n",
    "    gsplit = gene.id.split(\"_\")\n",
    "    \n",
    "    if len(gsplit) <= 1:\n",
    "        to_check[gene] = ncbi\n",
    "        continue\n",
    "    new_gene = \"_\".join((ncbi, gsplit[-1]))\n",
    "    gene_mapping[gene.id] = new_gene"
   ]
  },
  {
   "cell_type": "markdown",
   "id": "c887fdf9",
   "metadata": {},
   "source": [
    "##### To double check manually"
   ]
  },
  {
   "cell_type": "code",
   "execution_count": 10,
   "id": "a2723323",
   "metadata": {
    "scrolled": true
   },
   "outputs": [],
   "source": [
    "# Assume canonical isoform only\n",
    "gene_mapping[\"9429\"] = \"9429_AT1\"\n",
    "gene_mapping[\"55256\"] = \"55256_AT1\"\n",
    "gene_mapping[\"58478\"] = \"58478_AT1\"\n",
    "gene_mapping[\"55500\"] = \"55500_AT1\"\n",
    "gene_mapping[\"29124\"] = \"29124_AT1\"\n",
    "gene_mapping[\"10846\"] = \"10846_AT1\"\n",
    "gene_mapping[\"55276\"] = \"55276_AT1\"\n",
    "gene_mapping[\"51084\"] = \"51084_AT1\""
   ]
  },
  {
   "cell_type": "code",
   "execution_count": 11,
   "id": "cea58441",
   "metadata": {},
   "outputs": [],
   "source": [
    "# Mapped in Recon3D but not iAB-RBC-283\n",
    "gene_mapping[\"ThmtP_AT1\"] = \"79178_AT1\"\n",
    "# Mapped in Recon3D but not iAB-RBC-283\n",
    "# NCBI says located in the nucleus, reactome says otherwise\n",
    "gene_mapping[\"Cgi_14_AT1\"] = \"51005_AT1\"\n",
    "# Pseudogene, does not seem to have annotations mapped \n",
    "gene_mapping[\"Gkp3_AT1\"] = \"2713_AT1\"\n",
    "\n",
    "# Mapped in Recon3D but not iAB-RBC-283\n",
    "gene_mapping[\"Rhag_1_e\"] = \"6005_AT1\"\n",
    "gene_mapping[\"Rhbg_1_e\"] = \"57127_AT1\"\n",
    "\n",
    "# Mapped in Recon3D but not iAB-RBC-283\n",
    "gene_mapping[\"Abcc4_1_e\"] = \"10257_AT1\"\n",
    "\n",
    "# Mapped in Recon3D but not iAB-RBC-283\n",
    "gene_mapping[\"Slc2a1_1_e\"] = \"6513_AT1\"\n",
    "gene_mapping[\"Slc2a2_1_e\"] = \"6514_AT1\"\n",
    "gene_mapping[\"Slc2a3_1_e\"] = \"6515_AT1\"\n",
    "gene_mapping[\"Slc2a4_1_e\"] = \"6517_AT1\"\n",
    "gene_mapping[\"Slc2a5_1_e\"] = \"6518_AT1\"\n",
    "gene_mapping[\"Slc2a7_1_e\"] = \"155184_AT1\"\n",
    "gene_mapping[\"Slc2a8_1_e\"] = \"29988_AT1\"\n",
    "gene_mapping[\"Slc2a11_1_e\"] = \"66035_AT1\"\n",
    "\n",
    "\n",
    "# Mapped in Recon3D but not iAB-RBC-283\n",
    "gene_mapping[\"Slc4a1_1_e\"] = \"6521_AT1\"\n",
    "\n",
    "# Mapped in Recon3D but not iAB-RBC-283\n",
    "gene_mapping[\"Slc5a1_1_e\"] = \"6523_AT1\"\n",
    "gene_mapping[\"Slc5a3_1_e\"] = \"6526_AT1\"\n",
    "gene_mapping[\"Slc5a5_1_e\"] = \"6528_AT1\"\n",
    "\n",
    "# Mapped in Recon3D but not iAB-RBC-283\n",
    "gene_mapping[\"Slc12a7_1_e\"] = \"10723_AT1\"\n",
    "\n",
    "# Mapped in Recon3D but not iAB-RBC-283\n",
    "gene_mapping[\"Slc14a1_1_e\"] = \"6563_AT1\"\n",
    "\n",
    "# Mapped in Recon3D but not iAB-RBC-283\n",
    "gene_mapping[\"Slc29a1_1_e\"] = \"2030_AT1\"\n",
    "gene_mapping[\"Slc29a2_1_e\"] = \"3177_AT1\"\n",
    "\n",
    "# Mapped in Recon3D but not iAB-RBC-283\n",
    "gene_mapping[\"Flj22761_AT1\"] = \"80201_AT1\""
   ]
  },
  {
   "cell_type": "markdown",
   "id": "3e7fdebc",
   "metadata": {},
   "source": [
    "##### Map new IDs onto genes"
   ]
  },
  {
   "cell_type": "code",
   "execution_count": 12,
   "id": "69df9114",
   "metadata": {},
   "outputs": [],
   "source": [
    "cobra.manipulation.modify.rename_genes(model, gene_mapping)"
   ]
  },
  {
   "cell_type": "markdown",
   "id": "67bb6cec",
   "metadata": {},
   "source": [
    "##### Seperate \"Lumped\" genes into individual genes\n",
    "Note: These are reactions containing GPRs that have both \"AND\" and \"OR\" in them. The \"AND\" genes are lumped together."
   ]
  },
  {
   "cell_type": "code",
   "execution_count": 13,
   "id": "1e122bb7",
   "metadata": {},
   "outputs": [
    {
     "data": {
      "text/plain": [
       "[]"
      ]
     },
     "execution_count": 13,
     "metadata": {},
     "output_type": "execute_result"
    }
   ],
   "source": [
    "# Reaction GUACYC: Recon3D top, iAB-RBC-283 bottom\n",
    "# 4881_AT1 or 4882_AT1 or 4882_AT2 or   2984_AT1 or   3000_AT1 or   2986_AT1 or (2977_AT1 and 2974_AT1) or (2977_AT1 and 2983_AT1) or (2982_AT1 and 2974_AT1) or (2982_AT1 and 2983_AT1)\n",
    "# Npr1_AT1 or Npr2_AT1 or Npr2_AT2 or Gucy2C_AT1 or Gucy2D_AT1 or Gucy2F_AT1 or (    Gucy1A2B2_AT1    ) or (    Gucy1A2B3_AT1    ) or (    Gucy1A3B2_AT1    ) or (    Gucy1A3B3_AT1    )\n",
    "rbc_reaction = model.reactions.get_by_id(\"GUACYC\")\n",
    "rbc_reaction.gene_reaction_rule = \"(2974_AT1 and 2977_AT1) or (2974_AT1 and 2982_AT1) or (2977_AT1 and 2983_AT1) or (2982_AT1 and 2983_AT1) or 2984_AT1 or 2986_AT1 or 3000_AT1 or 4881_AT1 or 4882_AT1 or 4882_AT2\"\n",
    "\n",
    "# Reactions NDPK1, NDPK2, NDPK3: Recon3D top, iAB-RBC-283 bottom\n",
    "# (4830_AT1 and 4831_AT1) or (4830_AT2 and 4831_AT1) or 4832_AT1 or 10201_AT1 or 29922_AT1 or 29922_AT2\n",
    "# (      NME12_AT1      ) or (      NME12_AT2      ) or NME3_AT1 or  NME6_AT1 or  NME7_AT1 or  NME7_AT2\n",
    "\n",
    "rbc_reaction = model.reactions.get_by_id(\"NDPK1\")\n",
    "rbc_reaction.gene_reaction_rule = \"(4830_AT1 and 4831_AT1) or (4830_AT2 and 4831_AT1) or 4832_AT1 or 10201_AT1 or 29922_AT1 or 29922_AT2\"\n",
    "# old_genes.difference_update(rbc_reaction.genes)\n",
    "rbc_reaction = model.reactions.get_by_id(\"NDPK2\")\n",
    "rbc_reaction.gene_reaction_rule = \"(4830_AT1 and 4831_AT1) or (4830_AT2 and 4831_AT1) or 4832_AT1 or 10201_AT1 or 29922_AT1 or 29922_AT2\"\n",
    "\n",
    "rbc_reaction = model.reactions.get_by_id(\"NDPK3\")\n",
    "rbc_reaction.gene_reaction_rule = \"(4830_AT1 and 4831_AT1) or (4830_AT2 and 4831_AT1) or 4832_AT1 or 10201_AT1 or 29922_AT1 or 29922_AT2\"\n",
    "\n",
    "# Reaction METAT: Recon3D top, iAB-RBC-283 bottom\n",
    "#  4143_AT1 or (4144_AT1 and 27430_AT1) or (4144_AT1 and 27430_AT2)\n",
    "# Mat1a_AT1 or (       Mat2ab1        ) or (       Mat2ab2        )\n",
    "rbc_reaction = model.reactions.get_by_id(\"METAT\")\n",
    "rbc_reaction.gene_reaction_rule = \"4143_AT1 or (4144_AT1 and 27430_AT1) or (4144_AT1 and 27430_AT2)\"\n",
    "\n",
    "# Reaction NaKt: Recon3D (modified due to differences), iAB-RBC-283 bottom\n",
    "# (476_AT1 and 481_AT1) or (476_AT1 and  482_AT1) or (476_AT1 and 483_AT1) or (476_AT1 and 23439_AT1)\n",
    "# (     Atp1a1b1      ) or (     Atp1a1b2       ) or (     Atp1a1b3      ) or (     Atp1a1b4      )\n",
    "rbc_reaction = model.reactions.get_by_id(\"NaKt\")\n",
    "old_genes = set(rbc_reaction.genes)\n",
    "rbc_reaction.gene_reaction_rule = \"(476_AT1 and 481_AT1) or (476_AT1 and 482_AT1) or (476_AT1 and 483_AT1) or (476_AT1 and 23439_AT1)\"\n",
    "\n",
    "# Remove old lumped genes from model\n",
    "cobra.manipulation.delete.remove_genes(\n",
    "    model,\n",
    "    gene_list=model.genes.query(lambda x: not x.reactions),\n",
    "    remove_reactions=False\n",
    ")\n",
    "model.genes.query(lambda x: not x.reactions)"
   ]
  },
  {
   "cell_type": "markdown",
   "id": "3512ba3d",
   "metadata": {},
   "source": [
    "#### Fix gene reaction rules with duplicate genes"
   ]
  },
  {
   "cell_type": "code",
   "execution_count": 14,
   "id": "c78fea1f",
   "metadata": {},
   "outputs": [
    {
     "name": "stdout",
     "output_type": "stream",
     "text": [
      "Reaction: DAGK_hs_16_0_16_0: Counter({'1607_AT1': 1})\n",
      "Reaction: DAGK_hs_16_0_18_1: Counter({'1607_AT1': 1})\n",
      "Reaction: DAGK_hs_16_0_18_2: Counter({'1607_AT1': 1})\n",
      "Reaction: DAGK_hs_18_1_18_1: Counter({'1607_AT1': 1})\n",
      "Reaction: DAGK_hs_18_1_18_2: Counter({'1607_AT1': 1})\n",
      "Reaction: DAGK_hs_18_2_16_0: Counter({'1607_AT1': 1})\n",
      "Reaction: DAGK_hs_18_2_18_1: Counter({'1607_AT1': 1})\n"
     ]
    }
   ],
   "source": [
    "# Auto fixed\n",
    "for reaction in model.reactions.query(lambda x: x.gene_reaction_rule):\n",
    "    or_split = reaction.gene_reaction_rule.split(\" or \")\n",
    "    if Counter(or_split) != Counter(set(or_split)):\n",
    "        # Identify extra gene\n",
    "        extra = Counter(or_split) - Counter(set(or_split))\n",
    "        if extra:\n",
    "            print(f\"Reaction: {reaction.id}: {extra}\")\n",
    "        for gene, num_extra in extra.items():\n",
    "            reaction.gene_reaction_rule = reaction.gene_reaction_rule.replace(f\"{gene} or \", \"\", num_extra)\n",
    "            \n",
    "# # DAGK reactions have an extra gene\n",
    "# # Manual fix\n",
    "# model.reactions.get_by_id(\"DAGK_hs_16_0_16_0\").gene_reaction_rule = \"1606_AT1 or 1607_AT1 or 1607_AT2 or 1608_AT1 or 1609_AT1 or 8525_AT1 or 8525_AT2 or 8525_AT3 or 8526_AT1 or 8527_AT1 or 8527_AT2 or 9162_AT1 or 160851_AT1 or 160851_AT2\"\n",
    "# model.reactions.get_by_id(\"DAGK_hs_16_0_18_1\").gene_reaction_rule = \"1606_AT1 or 1607_AT1 or 1607_AT2 or 1608_AT1 or 1609_AT1 or 8525_AT1 or 8525_AT2 or 8525_AT3 or 8526_AT1 or 8527_AT1 or 8527_AT2 or 9162_AT1 or 160851_AT1 or 160851_AT2\"\n",
    "# model.reactions.get_by_id(\"DAGK_hs_16_0_18_2\").gene_reaction_rule = \"1606_AT1 or 1607_AT1 or 1607_AT2 or 1608_AT1 or 1609_AT1 or 8525_AT1 or 8525_AT2 or 8525_AT3 or 8526_AT1 or 8527_AT1 or 8527_AT2 or 9162_AT1 or 160851_AT1 or 160851_AT2\"\n",
    "# model.reactions.get_by_id(\"DAGK_hs_18_1_18_1\").gene_reaction_rule = \"1606_AT1 or 1607_AT1 or 1607_AT2 or 1608_AT1 or 1609_AT1 or 8525_AT1 or 8525_AT2 or 8525_AT3 or 8526_AT1 or 8527_AT1 or 8527_AT2 or 9162_AT1 or 160851_AT1 or 160851_AT2\"\n",
    "# model.reactions.get_by_id(\"DAGK_hs_18_1_18_2\").gene_reaction_rule = \"1606_AT1 or 1607_AT1 or 1607_AT2 or 1608_AT1 or 1609_AT1 or 8525_AT1 or 8525_AT2 or 8525_AT3 or 8526_AT1 or 8527_AT1 or 8527_AT2 or 9162_AT1 or 160851_AT1 or 160851_AT2\"\n",
    "# model.reactions.get_by_id(\"DAGK_hs_18_2_16_0\").gene_reaction_rule = \"1606_AT1 or 1607_AT1 or 1607_AT2 or 1608_AT1 or 1609_AT1 or 8525_AT1 or 8525_AT2 or 8525_AT3 or 8526_AT1 or 8527_AT1 or 8527_AT2 or 9162_AT1 or 160851_AT1 or 160851_AT2\"\n",
    "# model.reactions.get_by_id(\"DAGK_hs_18_2_18_1\").gene_reaction_rule = \"1606_AT1 or 1607_AT1 or 1607_AT2 or 1608_AT1 or 1609_AT1 or 8525_AT1 or 8525_AT2 or 8525_AT3 or 8526_AT1 or 8527_AT1 or 8527_AT2 or 9162_AT1 or 160851_AT1 or 160851_AT2\""
   ]
  },
  {
   "cell_type": "markdown",
   "id": "af316222",
   "metadata": {},
   "source": [
    "#### Update annotations\n",
    "##### Same as Recon3D"
   ]
  },
  {
   "cell_type": "code",
   "execution_count": 15,
   "id": "232b7f30",
   "metadata": {},
   "outputs": [],
   "source": [
    "refseq_updates = {\n",
    "    \"2982_AT1\": \"GUCY1A1\", # GUCY1A3 (past), (GUCY1A1 now) \n",
    "    \"2983_AT1\": \"GUCY1B1\", # GUCY1B3 (past), (GUCY1B1 now)\n",
    "}\n",
    "for gene_id in [\n",
    "    \"79178_AT1\",  # now THTPA   (was ThmtP_AT1)\n",
    "    \"51005_AT1\",  # now AMDHD2  (was Cgi_14_AT1)\n",
    "    \"2977_AT1\",   # now GUCY1A2 (was lumped)\n",
    "    \"4830_AT1\",   # now NME1    (was lumped)\n",
    "    \"4830_AT2\",   # now NME1    (was lumped)\n",
    "    \"4831_AT1\",   # now NME2    (was lumped)\n",
    "    \"4144_AT1\",   # now MAT2A   (was lumped)  # Check refseq names from here below\n",
    "    \"27430_AT1\",  # now MAT2B   (was lumped)\n",
    "    \"27430_AT2\",  # now MAT2B   (was lumped)\n",
    "    \"476_AT1\",    # now ATP1A1  (was lumped)\n",
    "    \"481_AT1\",    # now ATP1B1  (was lumped)\n",
    "    \"482_AT1\",    # now ATP1B2  (was lumped)\n",
    "    \"483_AT1\",    # now ATP1B3  (was lumped)\n",
    "    \"23439_AT1\",  # now ATP1B4  (was lumped)\n",
    "    \"6005_AT1\",   # now RHAG\n",
    "    \"57127_AT1\",  # now RHBG\n",
    "    \"10257_AT1\",  # now ABCC4\n",
    "    \"6513_AT1\",   # now SLC2A1\n",
    "    \"6514_AT1\",   # now SLC2A2\n",
    "    \"6515_AT1\",   # now SLC2A3\n",
    "    \"6517_AT1\",   # now SLC2A4\n",
    "    \"6518_AT1\",   # now SLC2A5\n",
    "    \"155184_AT1\", # now SLC2A7\n",
    "    \"29988_AT1\",  # now SLC2A8\n",
    "    \"66035_AT1\",  # now SLC2A11\n",
    "    \"6521_AT1\",   # now SLC4A1\n",
    "    \"6523_AT1\",   # now SLC5A1\n",
    "    \"6526_AT1\",   # now SLC5A3\n",
    "    \"6528_AT1\",   # now SLC5A5\n",
    "    \"10723_AT1\",  # now SLC12A7\n",
    "    \"6563_AT1\",   # now SLC14A1\n",
    "    \"2030_AT1\",   # now SLC29A1\n",
    "    \"3177_AT1\",   # now SLC29A2\n",
    "    \"80201_AT1\",  # now HKDC1\n",
    "\n",
    "] + list(refseq_updates):\n",
    "    recon_gene = Recon3D.genes.get_by_id(gene_id)\n",
    "    rbc_gene = model.genes.get_by_id(gene_id)\n",
    "    rbc_gene.annotation.update(recon_gene.annotation)\n",
    "    if gene_id in refseq_updates:\n",
    "        rbc_gene.annotation[\"refseq_name\"] = refseq_updates[gene_id]"
   ]
  },
  {
   "cell_type": "markdown",
   "id": "f22a5dfb",
   "metadata": {},
   "source": [
    "##### Manually added"
   ]
  },
  {
   "cell_type": "code",
   "execution_count": 16,
   "id": "f2a295c0",
   "metadata": {},
   "outputs": [],
   "source": [
    "rbc_gene = model.genes.get_by_id(\"2713_AT1\") # GK3P, Pseudogene\n",
    "rbc_gene.annotation.update({\n",
    "    'sbo': 'SBO:0000243',\n",
    "    'ccds': [],\n",
    "    'ncbigene': '2713',\n",
    "    'omim': '600149',\n",
    "    'refseq_name': 'GK3P',\n",
    "    'refseq_synonym': ['GKP3', 'GKTB']\n",
    "})\n",
    "\n",
    "rbc_gene = model.genes.get_by_id(\"2974_AT1\") # GUCY1B2, Pseudogene\n",
    "rbc_gene.annotation.update({\n",
    "    'sbo': 'SBO:0000243',\n",
    "    'ccds': [],\n",
    "    'ncbigene': '2974',\n",
    "    'omim': '603695',\n",
    "    'refseq_name': 'GUCY1B2',\n",
    "    'refseq_synonym': ['GC-SB2']\n",
    "}) # Nothing to update from RECON3D, needs manual populating"
   ]
  },
  {
   "cell_type": "markdown",
   "id": "79e31d10",
   "metadata": {},
   "source": [
    "#### Update names"
   ]
  },
  {
   "cell_type": "code",
   "execution_count": 17,
   "id": "c618e9a6",
   "metadata": {},
   "outputs": [],
   "source": [
    "for gene in model.genes:\n",
    "    name = gene.annotation.get(\"refseq_name\")\n",
    "    if isinstance(name, list):\n",
    "        if len(name) > 1:\n",
    "            raise ValueError\n",
    "        name = name[0]\n",
    "    if name is None:\n",
    "        print(gene)\n",
    "        continue\n",
    "    gene.name = name"
   ]
  },
  {
   "cell_type": "markdown",
   "id": "7fad4069",
   "metadata": {},
   "source": [
    "## Update/Fix IDs\n",
    "1. Update the identifiers of lipids in the model to match those used in the publication of iAB_RBC_283 for later comparison. "
   ]
  },
  {
   "cell_type": "code",
   "execution_count": 18,
   "id": "1d6436f6",
   "metadata": {},
   "outputs": [],
   "source": [
    "model.reactions.get_by_id(\"AGPAT1_16_0_16_1\").id = \"AGPAT1_16_0_16_0\"\n",
    "model.reactions.get_by_id(\"AGPAT1_16_0_18_3\").id = \"AGPAT1_16_0_18_1\"\n",
    "model.reactions.get_by_id(\"AGPAT1_16_0_18_4\").id = \"AGPAT1_16_0_18_2\"\n",
    "model.reactions.get_by_id(\"AGPAT1_18_1_18_3\").id = \"AGPAT1_18_1_18_1\"\n",
    "model.reactions.get_by_id(\"AGPAT1_18_1_18_4\").id = \"AGPAT1_18_1_18_2\"\n",
    "model.reactions.get_by_id(\"AGPAT1_18_2_16_0\").id = \"AGPAT1_18_2_16_0\"\n",
    "model.reactions.get_by_id(\"AGPAT1_18_2_18_1\").id = \"AGPAT1_18_2_18_1\"\n",
    "\n",
    "model.reactions.get_by_id(\"GPAM_hs_16_1\").id = \"GPAM_hs_16_0\"\n",
    "model.reactions.get_by_id(\"GPAM_hs_18_3\").id = \"GPAM_hs_18_1\"\n",
    "model.reactions.get_by_id(\"GPAM_hs_18_4\").id = \"GPAM_hs_18_2\"\n",
    "\n",
    "model.reactions.get_by_id(\"PI4P5K_16_0_16_1\").id = \"PI4P5K_16_0_16_0\"\n",
    "model.reactions.get_by_id(\"PI4P5K_16_0_18_3\").id = \"PI4P5K_16_0_18_1\"\n",
    "model.reactions.get_by_id(\"PI4P5K_16_0_18_4\").id = \"PI4P5K_16_0_18_2\"\n",
    "model.reactions.get_by_id(\"PI4P5K_18_1_18_3\").id = \"PI4P5K_18_1_18_1\"\n",
    "model.reactions.get_by_id(\"PI4P5K_18_1_18_4\").id = \"PI4P5K_18_1_18_2\"\n",
    "\n",
    "model.repair()"
   ]
  },
  {
   "cell_type": "markdown",
   "id": "221a1200",
   "metadata": {},
   "source": [
    "#### Sort GPRs in reactions (optional)"
   ]
  },
  {
   "cell_type": "code",
   "execution_count": 19,
   "id": "2f9743b5",
   "metadata": {
    "scrolled": true
   },
   "outputs": [],
   "source": [
    "from collections import defaultdict\n",
    "or_gpr_reactions = [\n",
    "    r for r in model.reactions \n",
    "    if \"or\" in r.gene_reaction_rule and not \"and\" in r.gene_reaction_rule]\n",
    "\n",
    "and_gpr_reactions = [\n",
    "    r for r in model.reactions \n",
    "    if \"and\" in r.gene_reaction_rule and not \"or\" in r.gene_reaction_rule]\n",
    "\n",
    "for join_str, reactions in zip([\" or \", \" and \"], [or_gpr_reactions, and_gpr_reactions]):\n",
    "    for r in reactions:\n",
    "        gpr_dict = defaultdict(list)\n",
    "        for i in r.gene_reaction_rule.split(join_str):\n",
    "            gpr_dict[int(i.split(\"_\")[0])] += [i.split(\"_\")[1]]\n",
    "        genes = r.genes\n",
    "        r.gene_reaction_rule = join_str.join([f\"{key}_{v}\" for key in sorted(gpr_dict) for v in sorted(gpr_dict[key])])\n",
    "        try:\n",
    "            assert genes == r.genes\n",
    "        except AssertionError:\n",
    "            raise AssertionError(f\"A change occured in the genes for reaction {r.id} that should not have occured.\")\n",
    "    \n"
   ]
  },
  {
   "cell_type": "markdown",
   "id": "9e19c8cd",
   "metadata": {},
   "source": [
    "### Update missing formula and charges\n",
    "1. Extracellular metabolites do not have formulas or charges, rendering them mass-imbalanced. Use intracellular metabolite formula and charges when possible, balance out the rest assuming iAB-RBC-283 is already mass and charge balanced\n",
    "2. The reaction `DM_nadh` will not be charge balanced as its a pseudoreaction."
   ]
  },
  {
   "cell_type": "markdown",
   "id": "02325676",
   "metadata": {},
   "source": [
    "### Using intracellular metabolites"
   ]
  },
  {
   "cell_type": "code",
   "execution_count": 20,
   "id": "3bfebff9",
   "metadata": {},
   "outputs": [],
   "source": [
    "# Missing formulas\n",
    "model.metabolites.get_by_id('3moxtyr_e').formula = model.metabolites.get_by_id('3moxtyr_c').formula\n",
    "model.metabolites.get_by_id('5aop_e').formula = model.metabolites.get_by_id('5aop_c').formula\n",
    "model.metabolites.get_by_id('acnam_e').formula = model.metabolites.get_by_id('acnam_c').formula\n",
    "model.metabolites.get_by_id('etha_e').formula = model.metabolites.get_by_id('etha_c').formula\n",
    "model.metabolites.get_by_id('fum_e').formula = model.metabolites.get_by_id('fum_c').formula\n",
    "model.metabolites.get_by_id('hcys__L_e').formula = model.metabolites.get_by_id('hcys__L_c').formula\n",
    "model.metabolites.get_by_id('leuktrA4_e').formula = model.metabolites.get_by_id('leuktrA4_c').formula\n",
    "model.metabolites.get_by_id('leuktrB4_e').formula = model.metabolites.get_by_id('leuktrB4_c').formula\n",
    "model.metabolites.get_by_id('mal__L_e').formula = model.metabolites.get_by_id('mal__L_c').formula\n",
    "model.metabolites.get_by_id('normete__L_e').formula = model.metabolites.get_by_id('normete__L_c').formula\n",
    "model.metabolites.get_by_id('orot_e').formula = model.metabolites.get_by_id('orot_c').formula\n",
    "model.metabolites.get_by_id('ptrc_e').formula = model.metabolites.get_by_id('ptrc_c').formula\n",
    "model.metabolites.get_by_id('spmd_e').formula = model.metabolites.get_by_id('spmd_c').formula\n",
    "model.metabolites.get_by_id('sprm_e').formula = model.metabolites.get_by_id('sprm_c').formula\n",
    "\n",
    "# Missing charges\n",
    "model.metabolites.get_by_id('3moxtyr_e').charge = model.metabolites.get_by_id('3moxtyr_c').charge\n",
    "model.metabolites.get_by_id('5aop_e').charge = model.metabolites.get_by_id('5aop_c').charge\n",
    "model.metabolites.get_by_id('acnam_e').charge = model.metabolites.get_by_id('acnam_c').charge\n",
    "model.metabolites.get_by_id('etha_e').charge = model.metabolites.get_by_id('etha_c').charge\n",
    "model.metabolites.get_by_id('fum_e').charge = model.metabolites.get_by_id('fum_c').charge\n",
    "model.metabolites.get_by_id('hcys__L_e').charge = model.metabolites.get_by_id('hcys__L_c').charge\n",
    "model.metabolites.get_by_id('leuktrA4_e').charge = model.metabolites.get_by_id('leuktrA4_c').charge\n",
    "model.metabolites.get_by_id('leuktrB4_e').charge = model.metabolites.get_by_id('leuktrB4_c').charge\n",
    "model.metabolites.get_by_id('mal__L_e').charge = model.metabolites.get_by_id('mal__L_c').charge\n",
    "model.metabolites.get_by_id('normete__L_e').charge = model.metabolites.get_by_id('normete__L_c').charge\n",
    "model.metabolites.get_by_id('orot_e').charge = model.metabolites.get_by_id('orot_c').charge\n",
    "model.metabolites.get_by_id('ptrc_e').charge = model.metabolites.get_by_id('ptrc_c').charge\n",
    "model.metabolites.get_by_id('spmd_e').charge = model.metabolites.get_by_id('spmd_c').charge\n",
    "model.metabolites.get_by_id('sprm_e').charge = model.metabolites.get_by_id('sprm_c').charge"
   ]
  },
  {
   "cell_type": "code",
   "execution_count": 21,
   "id": "7e2a2dc2",
   "metadata": {},
   "outputs": [],
   "source": [
    "# Missing formulas\n",
    "model.metabolites.get_by_id('alpa_hs_16_0_c').formula = \"C19H37O7P\"\n",
    "model.metabolites.get_by_id('alpa_hs_18_1_c').formula = \"C21H39O7P\"\n",
    "model.metabolites.get_by_id('alpa_hs_18_2_c').formula = \"C21H37O7P\"\n",
    "model.metabolites.get_by_id('band_c').formula = \"XH\"\n",
    "model.metabolites.get_by_id('bandmt_c').formula = \"XCH3\"\n",
    "model.metabolites.get_by_id('cdpdag_hs_16_0_16_0_c').formula = \"C44H79N3O15P2\"\n",
    "model.metabolites.get_by_id('cdpdag_hs_16_0_18_1_c').formula = \"C46H81N3O15P2\"\n",
    "model.metabolites.get_by_id('cdpdag_hs_16_0_18_2_c').formula = \"C46H79N3O15P2\"\n",
    "model.metabolites.get_by_id('cdpdag_hs_18_1_18_1_c').formula = \"C48H83N3O15P2\"\n",
    "model.metabolites.get_by_id('cdpdag_hs_18_1_18_2_c').formula = \"C48H81N3O15P2\"\n",
    "model.metabolites.get_by_id('cdpdag_hs_18_2_16_0_c').formula = \"C46H79N3O15P2\"\n",
    "model.metabolites.get_by_id('cdpdag_hs_18_2_18_1_c').formula = \"C48H81N3O15P2\"\n",
    "model.metabolites.get_by_id('dag_hs_16_0_16_0_c').formula = \"C35H68O5\"\n",
    "model.metabolites.get_by_id('dag_hs_16_0_18_1_c').formula = \"C37H70O5\"\n",
    "model.metabolites.get_by_id('dag_hs_16_0_18_2_c').formula = \"C37H68O5\"\n",
    "model.metabolites.get_by_id('dag_hs_18_1_18_1_c').formula = \"C39H72O5\"\n",
    "model.metabolites.get_by_id('dag_hs_18_1_18_2_c').formula = \"C39H70O5\"\n",
    "model.metabolites.get_by_id('dag_hs_18_2_16_0_c').formula = \"C37H68O5\"\n",
    "model.metabolites.get_by_id('dag_hs_18_2_18_1_c').formula = \"C39H70O5\"\n",
    "model.metabolites.get_by_id('dhmtp_c').formula = \"C6H10O3S\"\n",
    "model.metabolites.get_by_id('lpchol_hs_16_0_c').formula = \"C24H50NO7P\"\n",
    "model.metabolites.get_by_id('lpchol_hs_18_1_c').formula = \"C26H52NO7P\"\n",
    "model.metabolites.get_by_id('lpchol_hs_18_2_c').formula = \"C26H50NO7P\"\n",
    "model.metabolites.get_by_id('pa_hs_16_0_16_0_c').formula = \"C35H67O8P\"\n",
    "model.metabolites.get_by_id('pa_hs_16_0_18_1_c').formula = \"C37H69O8P\"\n",
    "model.metabolites.get_by_id('pa_hs_16_0_18_2_c').formula = \"C37H67O8P\"\n",
    "model.metabolites.get_by_id('pa_hs_18_1_18_1_c').formula = \"C39H71O8P\"\n",
    "model.metabolites.get_by_id('pa_hs_18_1_18_2_c').formula = \"C39H69O8P\"\n",
    "model.metabolites.get_by_id('pa_hs_18_2_16_0_c').formula = \"C37H67O8P\"\n",
    "model.metabolites.get_by_id('pa_hs_18_2_18_1_c').formula = \"C39H69O8P\"\n",
    "model.metabolites.get_by_id('pail45p_hs_16_0_16_0_c').formula = \"C41H76O19P3\"\n",
    "model.metabolites.get_by_id('pail45p_hs_16_0_18_1_c').formula = \"C43H78O19P3\"\n",
    "model.metabolites.get_by_id('pail45p_hs_16_0_18_2_c').formula = \"C43H76O19P3\"\n",
    "model.metabolites.get_by_id('pail45p_hs_18_1_18_1_c').formula = \"C45H80O19P3\"\n",
    "model.metabolites.get_by_id('pail45p_hs_18_1_18_2_c').formula = \"C45H78O19P3\"\n",
    "model.metabolites.get_by_id('pail45p_hs_18_2_16_0_c').formula = \"C43H76O19P3\"\n",
    "model.metabolites.get_by_id('pail45p_hs_18_2_18_1_c').formula = \"C45H78O19P3\"\n",
    "model.metabolites.get_by_id('pail4p_hs_16_0_16_0_c').formula = \"C41H77O16P2\"\n",
    "model.metabolites.get_by_id('pail4p_hs_16_0_18_1_c').formula = \"C43H79O16P2\"\n",
    "model.metabolites.get_by_id('pail4p_hs_16_0_18_2_c').formula = \"C43H77O16P2\"\n",
    "model.metabolites.get_by_id('pail4p_hs_18_1_18_1_c').formula = \"C45H81O16P2\"\n",
    "model.metabolites.get_by_id('pail4p_hs_18_1_18_2_c').formula = \"C45H79O16P2\"\n",
    "model.metabolites.get_by_id('pail4p_hs_18_2_16_0_c').formula = \"C43H77O16P2\"\n",
    "model.metabolites.get_by_id('pail4p_hs_18_2_18_1_c').formula = \"C45H79O16P2\"\n",
    "model.metabolites.get_by_id('pail_hs_16_0_16_0_c').formula = \"C41H78O13P\"\n",
    "model.metabolites.get_by_id('pail_hs_16_0_18_1_c').formula = \"C43H80O13P\"\n",
    "model.metabolites.get_by_id('pail_hs_16_0_18_2_c').formula = \"C43H78O13P\"\n",
    "model.metabolites.get_by_id('pail_hs_18_1_18_1_c').formula = \"C45H82O13P\"\n",
    "model.metabolites.get_by_id('pail_hs_18_1_18_2_c').formula = \"C45H80O13P\"\n",
    "model.metabolites.get_by_id('pail_hs_18_2_16_0_c').formula = \"C43H78O13P\"\n",
    "model.metabolites.get_by_id('pail_hs_18_2_18_1_c').formula = \"C45H80O13P\"\n",
    "model.metabolites.get_by_id('pchol_hs_16_0_16_0_c').formula = \"C40H80NO8P\"\n",
    "model.metabolites.get_by_id('pchol_hs_16_0_18_1_c').formula = \"C42H82NO8P\"\n",
    "model.metabolites.get_by_id('pchol_hs_16_0_18_2_c').formula = \"C42H80NO8P\"\n",
    "model.metabolites.get_by_id('pchol_hs_18_1_18_1_c').formula = \"C44H84NO8P\"\n",
    "model.metabolites.get_by_id('pchol_hs_18_1_18_2_c').formula = \"C44H82NO8P\"\n",
    "model.metabolites.get_by_id('pchol_hs_18_2_16_0_c').formula = \"C42H80NO8P\"\n",
    "model.metabolites.get_by_id('pchol_hs_18_2_18_1_c').formula = \"C44H82NO8P\"\n",
    "model.metabolites.get_by_id('pe_hs_16_0_16_0_c').formula = \"C37H74NO8P\"\n",
    "model.metabolites.get_by_id('pe_hs_16_0_18_1_c').formula = \"C39H76NO8P\"\n",
    "model.metabolites.get_by_id('pe_hs_16_0_18_2_c').formula = \"C39H74NO8P\"\n",
    "model.metabolites.get_by_id('pe_hs_18_1_18_1_c').formula = \"C41H78NO8P\"\n",
    "model.metabolites.get_by_id('pe_hs_18_1_18_2_c').formula = \"C41H76NO8P\"\n",
    "model.metabolites.get_by_id('pe_hs_18_2_16_0_c').formula = \"C39H74NO8P\"\n",
    "model.metabolites.get_by_id('pe_hs_18_2_18_1_c').formula = \"C41H76NO8P\"\n",
    "model.metabolites.get_by_id('ppp9_c').formula = \"C34H32N4O4\"\n",
    "\n",
    "# Missing charges\n",
    "model.metabolites.get_by_id('alpa_hs_16_0_c').charge = -2\n",
    "model.metabolites.get_by_id('alpa_hs_18_1_c').charge = -2\n",
    "model.metabolites.get_by_id('alpa_hs_18_2_c').charge = -2\n",
    "model.metabolites.get_by_id('band_c').charge = 0\n",
    "model.metabolites.get_by_id('bandmt_c').charge = 0\n",
    "model.metabolites.get_by_id('cdpdag_hs_16_0_16_0_c').charge = -2\n",
    "model.metabolites.get_by_id('cdpdag_hs_16_0_18_1_c').charge = -2\n",
    "model.metabolites.get_by_id('cdpdag_hs_16_0_18_2_c').charge = -2\n",
    "model.metabolites.get_by_id('cdpdag_hs_18_1_18_1_c').charge = -2\n",
    "model.metabolites.get_by_id('cdpdag_hs_18_1_18_2_c').charge = -2\n",
    "model.metabolites.get_by_id('cdpdag_hs_18_2_16_0_c').charge = -2\n",
    "model.metabolites.get_by_id('cdpdag_hs_18_2_18_1_c').charge = -2\n",
    "model.metabolites.get_by_id('dag_hs_16_0_16_0_c').charge = 0\n",
    "model.metabolites.get_by_id('dag_hs_16_0_18_1_c').charge = 0\n",
    "model.metabolites.get_by_id('dag_hs_16_0_18_2_c').charge = 0\n",
    "model.metabolites.get_by_id('dag_hs_18_1_18_1_c').charge = 0\n",
    "model.metabolites.get_by_id('dag_hs_18_1_18_2_c').charge = 0\n",
    "model.metabolites.get_by_id('dag_hs_18_2_16_0_c').charge = 0\n",
    "model.metabolites.get_by_id('dag_hs_18_2_18_1_c').charge = 0\n",
    "model.metabolites.get_by_id('dhmtp_c').charge = 0\n",
    "model.metabolites.get_by_id('lpchol_hs_16_0_c').charge = 0\n",
    "model.metabolites.get_by_id('lpchol_hs_18_1_c').charge = 0\n",
    "model.metabolites.get_by_id('lpchol_hs_18_2_c').charge = 0\n",
    "model.metabolites.get_by_id('pa_hs_16_0_16_0_c').charge = -2\n",
    "model.metabolites.get_by_id('pa_hs_16_0_18_1_c').charge = -2\n",
    "model.metabolites.get_by_id('pa_hs_16_0_18_2_c').charge = -2\n",
    "model.metabolites.get_by_id('pa_hs_18_1_18_1_c').charge = -2\n",
    "model.metabolites.get_by_id('pa_hs_18_1_18_2_c').charge = -2\n",
    "model.metabolites.get_by_id('pa_hs_18_2_16_0_c').charge = -2\n",
    "model.metabolites.get_by_id('pa_hs_18_2_18_1_c').charge = -2\n",
    "model.metabolites.get_by_id('pail45p_hs_16_0_16_0_c').charge = -5\n",
    "model.metabolites.get_by_id('pail45p_hs_16_0_18_1_c').charge = -5\n",
    "model.metabolites.get_by_id('pail45p_hs_16_0_18_2_c').charge = -5\n",
    "model.metabolites.get_by_id('pail45p_hs_18_1_18_1_c').charge = -5\n",
    "model.metabolites.get_by_id('pail45p_hs_18_1_18_2_c').charge = -5\n",
    "model.metabolites.get_by_id('pail45p_hs_18_2_16_0_c').charge = -5\n",
    "model.metabolites.get_by_id('pail45p_hs_18_2_18_1_c').charge = -5\n",
    "model.metabolites.get_by_id('pail4p_hs_16_0_16_0_c').charge = -3\n",
    "model.metabolites.get_by_id('pail4p_hs_16_0_18_1_c').charge = -3\n",
    "model.metabolites.get_by_id('pail4p_hs_16_0_18_2_c').charge = -3\n",
    "model.metabolites.get_by_id('pail4p_hs_18_1_18_1_c').charge = -3\n",
    "model.metabolites.get_by_id('pail4p_hs_18_1_18_2_c').charge = -3\n",
    "model.metabolites.get_by_id('pail4p_hs_18_2_16_0_c').charge = -3\n",
    "model.metabolites.get_by_id('pail4p_hs_18_2_18_1_c').charge = -3\n",
    "model.metabolites.get_by_id('pail_hs_16_0_16_0_c').charge = -1\n",
    "model.metabolites.get_by_id('pail_hs_16_0_18_1_c').charge = -1\n",
    "model.metabolites.get_by_id('pail_hs_16_0_18_2_c').charge = -1\n",
    "model.metabolites.get_by_id('pail_hs_18_1_18_1_c').charge = -1\n",
    "model.metabolites.get_by_id('pail_hs_18_1_18_2_c').charge = -1\n",
    "model.metabolites.get_by_id('pail_hs_18_2_16_0_c').charge = -1\n",
    "model.metabolites.get_by_id('pail_hs_18_2_18_1_c').charge = -1\n",
    "model.metabolites.get_by_id('pchol_hs_16_0_16_0_c').charge = 0\n",
    "model.metabolites.get_by_id('pchol_hs_16_0_18_1_c').charge = 0\n",
    "model.metabolites.get_by_id('pchol_hs_16_0_18_2_c').charge = 0\n",
    "model.metabolites.get_by_id('pchol_hs_18_1_18_1_c').charge = 0\n",
    "model.metabolites.get_by_id('pchol_hs_18_1_18_2_c').charge = 0\n",
    "model.metabolites.get_by_id('pchol_hs_18_2_16_0_c').charge = 0\n",
    "model.metabolites.get_by_id('pchol_hs_18_2_18_1_c').charge = 0\n",
    "model.metabolites.get_by_id('pe_hs_16_0_16_0_c').charge = 0\n",
    "model.metabolites.get_by_id('pe_hs_16_0_18_1_c').charge = 0\n",
    "model.metabolites.get_by_id('pe_hs_16_0_18_2_c').charge = 0\n",
    "model.metabolites.get_by_id('pe_hs_18_1_18_1_c').charge = 0\n",
    "model.metabolites.get_by_id('pe_hs_18_1_18_2_c').charge = 0\n",
    "model.metabolites.get_by_id('pe_hs_18_2_16_0_c').charge = 0\n",
    "model.metabolites.get_by_id('pe_hs_18_2_18_1_c').charge = 0\n",
    "model.metabolites.get_by_id('ppp9_c').charge = -2"
   ]
  },
  {
   "cell_type": "markdown",
   "id": "a93a7b64",
   "metadata": {},
   "source": [
    "## Export updated model"
   ]
  },
  {
   "cell_type": "code",
   "execution_count": 31,
   "id": "a1cd192d",
   "metadata": {},
   "outputs": [],
   "source": [
    "model.id = \"iAB_RBC_283\"\n",
    "write_sbml_model(model, f\"{MAIN_PROJECT_DIR}/models/cobra/{model.id}.xml\")"
   ]
  },
  {
   "cell_type": "code",
   "execution_count": 32,
   "id": "2d59b8f2",
   "metadata": {},
   "outputs": [],
   "source": [
    "\n",
    "# For archival\n",
    "model.id = \"iAB_RBC_283_cleaned\"\n",
    "write_sbml_model(model, f\"{MAIN_PROJECT_DIR}/models/Archived/iAB_RBC_283/{model.id}.xml\")\n",
    "save_json_model(model, f\"{MAIN_PROJECT_DIR}/models/Archived/iAB_RBC_283/{model.id}.json\")\n",
    "save_yaml_model(model, f\"{MAIN_PROJECT_DIR}/models/Archived/iAB_RBC_283/{model.id}.yaml\")\n",
    "save_matlab_model(model, f\"{MAIN_PROJECT_DIR}/models/Archived/iAB_RBC_283/{model.id}.mat\")"
   ]
  },
  {
   "cell_type": "code",
   "execution_count": null,
   "id": "0a64f9ea",
   "metadata": {},
   "outputs": [],
   "source": []
  }
 ],
 "metadata": {
  "kernelspec": {
   "display_name": "Python 3 (ipykernel)",
   "language": "python",
   "name": "python3"
  },
  "language_info": {
   "codemirror_mode": {
    "name": "ipython",
    "version": 3
   },
   "file_extension": ".py",
   "mimetype": "text/x-python",
   "name": "python",
   "nbconvert_exporter": "python",
   "pygments_lexer": "ipython3",
   "version": "3.8.16"
  }
 },
 "nbformat": 4,
 "nbformat_minor": 5
}
